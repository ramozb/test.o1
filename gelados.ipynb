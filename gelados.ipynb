{
  "nbformat": 4,
  "nbformat_minor": 0,
  "metadata": {
    "colab": {
      "provenance": [],
      "authorship_tag": "ABX9TyNpBj+Y04phBkMCegwlputx",
      "include_colab_link": true
    },
    "kernelspec": {
      "name": "python3",
      "display_name": "Python 3"
    },
    "language_info": {
      "name": "python"
    }
  },
  "cells": [
    {
      "cell_type": "markdown",
      "metadata": {
        "id": "view-in-github",
        "colab_type": "text"
      },
      "source": [
        "<a href=\"https://colab.research.google.com/github/ramozb/test.o1/blob/main/gelados.ipynb\" target=\"_parent\"><img src=\"https://colab.research.google.com/assets/colab-badge.svg\" alt=\"Open In Colab\"/></a>"
      ]
    },
    {
      "cell_type": "code",
      "execution_count": null,
      "metadata": {
        "colab": {
          "base_uri": "https://localhost:8080/"
        },
        "id": "X5-soRt_I0P1",
        "outputId": "fa1ee4cc-0a1d-4ffe-eaa3-b90399a1565e"
      },
      "outputs": [
        {
          "output_type": "stream",
          "name": "stdout",
          "text": [
            "Bem vindo a loja de gelados do Rafael Ramos\n",
            "----\n",
            "              -- Cardápio --\n",
            "----------------------------------------\n",
            "| Tamanho | Cupuaçu (CP) | Açaí (AC)    |\n",
            "|---------|--------------|------------- |\n",
            "|    P    |  R$ 9.00     |  R$ 11.00    |\n",
            "|    M    |  R$ 14.00    |  R$ 16.00    |\n",
            "|    G    |  R$ 18.00    |  R$ 20.00    |\n",
            "------------------------------\n",
            "Escolha o sabor (CP para Cupuaçu ou AC para Açaí):ac\n",
            "Escolha o tamanho P, M ou G:m\n",
            "Deseja algo mais?(S/N):s\n",
            "Escolha o sabor (CP para Cupuaçu ou AC para Açaí):cp\n",
            "Escolha o tamanho P, M ou G:p\n",
            "Deseja algo mais?(S/N):n\n",
            "O Valor total do pedido foi R$ 25.00\n"
          ]
        }
      ],
      "source": [
        "#tabela com print e -\n",
        "print('Bem vindo a loja de gelados do Rafael Ramos')\n",
        "print(\"-\" * 4)\n",
        "print(\" \" * 14 + \"-- Cardápio --\")\n",
        "print(\"-\" * 40)\n",
        "print(\"| Tamanho | Cupuaçu (CP) | Açaí (AC)    |\")\n",
        "print(\"|---------|--------------|------------- |\")\n",
        "print(\"|    P    |  R$ 9.00     |  R$ 11.00    |\")\n",
        "print(\"|    M    |  R$ 14.00    |  R$ 16.00    |\")\n",
        "print(\"|    G    |  R$ 18.00    |  R$ 20.00    |\")\n",
        "print(\"-\" * 30)\n",
        "total = 0 #definindo total com o valor de 0 fora do looping\n",
        "while True: #abrindo o looping\n",
        "    sabor = input ('Escolha o sabor (CP para Cupuaçu ou AC para Açaí):').upper()\n",
        "#defininindo o primeiro input com o .upper pra deixar letra maiscula e minuscula\n",
        "\n",
        "    #definindo a mensagem de erro caso o usuario escreva o sabor errado\n",
        "    if sabor != 'CP' and sabor != 'AC':\n",
        "     print('ERRO! Sabor invalido!')\n",
        "     continue\n",
        "    #definindo os tamanhos e repetindo o que foi feito\n",
        "    tamanho = input ('Escolha o tamanho P, M ou G:').upper()\n",
        "    if tamanho != 'P' and tamanho != 'M' and tamanho != 'G':\n",
        "        print('ERRO! tente novamente')\n",
        "        continue\n",
        "#verifica o sabor escolhido e tamanho\n",
        "    if sabor == 'CP':\n",
        "          if tamanho == 'P':\n",
        "              preco = 9\n",
        "          elif tamanho == 'M':\n",
        "              preco = 14\n",
        "          elif tamanho == 'G':\n",
        "              preco = 18\n",
        "\n",
        "    if sabor == 'AC':\n",
        "          if tamanho == 'P':\n",
        "              preco = 11\n",
        "          elif tamanho == 'M':\n",
        "              preco = 16\n",
        "          elif tamanho == 'G':\n",
        "              preco = 20\n",
        "\n",
        "    #soma o preço dos itens\n",
        "    total += preco\n",
        "\n",
        "    pedir = input('Deseja algo mais?(S/N):').upper()\n",
        "\n",
        "    if pedir == 'N':\n",
        "      break #quebra do looping caso a resposta for 'N'\n",
        "print(f'O Valor total do pedido foi R$ {total:.2f}')\n",
        "#print para mostrar na tela o valor final das compras"
      ]
    }
  ]
}
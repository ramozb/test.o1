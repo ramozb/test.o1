{
  "nbformat": 4,
  "nbformat_minor": 0,
  "metadata": {
    "colab": {
      "provenance": [],
      "authorship_tag": "ABX9TyM8HORcGWUFNpBik32j/ZiS",
      "include_colab_link": true
    },
    "kernelspec": {
      "name": "python3",
      "display_name": "Python 3"
    },
    "language_info": {
      "name": "python"
    }
  },
  "cells": [
    {
      "cell_type": "markdown",
      "metadata": {
        "id": "view-in-github",
        "colab_type": "text"
      },
      "source": [
        "<a href=\"https://colab.research.google.com/github/ramozb/test.o1/blob/main/Copiadora.ipynb\" target=\"_parent\"><img src=\"https://colab.research.google.com/assets/colab-badge.svg\" alt=\"Open In Colab\"/></a>"
      ]
    },
    {
      "cell_type": "code",
      "execution_count": null,
      "metadata": {
        "colab": {
          "base_uri": "https://localhost:8080/"
        },
        "id": "-pbs1j_C7I2b",
        "outputId": "72383c44-4a5c-4c99-afaa-7b84f9b44565"
      },
      "outputs": [
        {
          "output_type": "stream",
          "name": "stdout",
          "text": [
            "Bem vindo a copiadora do Rafael Ramos\n",
            "\n",
            "Entre com o serviço desejado\n",
            "DIG - Digitalização\n",
            "ICO - Impressão Colorida\n",
            "IPB - Impressão Preto e Branco\n",
            "FOT - Fotocópia\n",
            ">>> gg\n",
            "\n",
            "Serviço inválido, tente novamente!\n",
            "Entre com o serviço desejado\n",
            "DIG - Digitalização\n",
            "ICO - Impressão Colorida\n",
            "IPB - Impressão Preto e Branco\n",
            "FOT - Fotocópia\n",
            ">>> fot\n",
            "\n",
            "Digite o número de páginas: 400000000000000000\n",
            "Valor inválido, tente novamente\n",
            "Digite o número de páginas: 400\n",
            "\n",
            "Deseja adicionar algum serviço? \n",
            "1 - Encadernação simples - R$ 15.00\n",
            "2 - Encadernação capa dura - R$ 40.00\n",
            "0 - Não desejo mais nada\n",
            ">>>6\n",
            "\n",
            "opção inválida\n",
            "\n",
            "Deseja adicionar algum serviço? \n",
            "1 - Encadernação simples - R$ 15.00\n",
            "2 - Encadernação capa dura - R$ 40.00\n",
            "0 - Não desejo mais nada\n",
            ">>>2\n",
            "\n",
            "Total R$104.00\n"
          ]
        }
      ],
      "source": [
        "print('Bem vindo a copiadora do Rafael Ramos')\n",
        "print ()\n",
        "\n",
        "#função de escolha de serviço e retorna o preço unitario\n",
        "def escolha_servico():\n",
        "  while True:\n",
        "    print('Entre com o serviço desejado')\n",
        "    print('DIG - Digitalização')\n",
        "    print('ICO - Impressão Colorida')\n",
        "    print('IPB - Impressão Preto e Branco')\n",
        "    print('FOT - Fotocópia')\n",
        "    servico = input('>>> ').lower()\n",
        "    print()\n",
        "#verifica se é valido\n",
        "    if servico in ['dig', 'ico', 'ipb', 'fot']:\n",
        "      #retorna o preço unitario\n",
        "      if servico == 'dig':\n",
        "        return 1.10\n",
        "      elif servico == 'ico':\n",
        "        return 1.00\n",
        "      elif servico == 'ipb':\n",
        "        return 0.40\n",
        "      elif servico == 'fot':\n",
        "        return 0.20\n",
        "    else:\n",
        "      print('Serviço inválido, tente novamente!')\n",
        "#função do numero de paginas e valida o valor\n",
        "def num_pagina():\n",
        "  while True:\n",
        "    try:\n",
        "      pagina = int(input('Digite o número de páginas: '))\n",
        "      if pagina >=20000:\n",
        "         print('Valor inválido, tente novamente')\n",
        "      elif pagina <= 0:\n",
        "          print('Valor inválido, digite um número diferente')\n",
        "      else:\n",
        "          return pagina #retorna caso valido\n",
        "    except ValueError:\n",
        "      print('Digite um número válido') #caso nao seja um numero valido\n",
        "\n",
        " #chamando a função e recebe o preco unitario\n",
        "preco_uni = escolha_servico()\n",
        "#função para numero de paginas\n",
        "pagina = num_pagina()\n",
        "#calcula o preço e o desconto\n",
        "if pagina < 20:\n",
        "      preco_final = preco_uni * pagina\n",
        "elif pagina < 200:\n",
        "      preco_final = preco_uni * pagina * 0.85\n",
        "elif pagina < 2000:\n",
        "      preco_final = preco_uni * pagina * 0.80\n",
        "else:\n",
        "      preco_final = preco_uni * pagina * 0.75\n",
        "#definindo a variavel pra somar extras\n",
        "extra_total = 0\n",
        "while True:\n",
        "  print()\n",
        "  print('Deseja adicionar algum serviço? ')\n",
        "  print('1 - Encadernação simples - R$ 15.00')\n",
        "  print('2 - Encadernação capa dura - R$ 40.00')\n",
        "  print('0 - Não desejo mais nada')\n",
        "  extra = input('>>>')\n",
        "  print()\n",
        "#adiciona o valor e sai do loop\n",
        "  if extra == '1':\n",
        "    extra_total += 15.00\n",
        "    break\n",
        "  elif extra == '2':\n",
        "    extra_total += 40.00\n",
        "    break\n",
        "  elif extra == '0':\n",
        "    break\n",
        "  else:\n",
        "    print(f'opção inválida')\n",
        "\n",
        "#soma o preço final + extras\n",
        "preco_total = preco_final + extra_total\n",
        "print(f'Total R${preco_total:.2f}')"
      ]
    }
  ]
}